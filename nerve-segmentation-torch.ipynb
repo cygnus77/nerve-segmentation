{
 "cells": [
  {
   "cell_type": "code",
   "execution_count": 1,
   "metadata": {},
   "outputs": [],
   "source": [
    "import os\n",
    "import time\n",
    "import glob\n",
    "import random\n",
    "import re\n",
    "import cv2\n",
    "import math\n",
    "import numpy as np\n",
    "import torch\n",
    "import torch.nn as nn\n",
    "import torch.optim as optim\n",
    "import torch.utils.data as data\n",
    "import torchvision\n",
    "import torchvision.transforms as transforms\n",
    "import torchvision.models as models\n",
    "\n",
    "%matplotlib inline\n",
    "\n",
    "import matplotlib.pyplot as plt"
   ]
  },
  {
   "cell_type": "code",
   "execution_count": 2,
   "metadata": {},
   "outputs": [
    {
     "name": "stdout",
     "output_type": "stream",
     "text": [
      "Net(\n",
      "  (encoder): Sequential(\n",
      "    (0): Conv2d(3, 64, kernel_size=(3, 3), stride=(1, 1), padding=(1, 1))\n",
      "    (1): ReLU(inplace)\n",
      "    (2): Conv2d(64, 64, kernel_size=(3, 3), stride=(1, 1), padding=(1, 1))\n",
      "    (3): ReLU(inplace)\n",
      "    (4): MaxPool2d(kernel_size=2, stride=2, padding=0, dilation=1, ceil_mode=False)\n",
      "    (5): Conv2d(64, 128, kernel_size=(3, 3), stride=(1, 1), padding=(1, 1))\n",
      "    (6): ReLU(inplace)\n",
      "    (7): Conv2d(128, 128, kernel_size=(3, 3), stride=(1, 1), padding=(1, 1))\n",
      "    (8): ReLU(inplace)\n",
      "    (9): MaxPool2d(kernel_size=2, stride=2, padding=0, dilation=1, ceil_mode=False)\n",
      "    (10): Conv2d(128, 256, kernel_size=(3, 3), stride=(1, 1), padding=(1, 1))\n",
      "    (11): ReLU(inplace)\n",
      "    (12): Conv2d(256, 256, kernel_size=(3, 3), stride=(1, 1), padding=(1, 1))\n",
      "    (13): ReLU(inplace)\n",
      "    (14): Conv2d(256, 256, kernel_size=(3, 3), stride=(1, 1), padding=(1, 1))\n",
      "    (15): ReLU(inplace)\n",
      "    (16): MaxPool2d(kernel_size=2, stride=2, padding=0, dilation=1, ceil_mode=False)\n",
      "    (17): Conv2d(256, 512, kernel_size=(3, 3), stride=(1, 1), padding=(1, 1))\n",
      "    (18): ReLU(inplace)\n",
      "    (19): Conv2d(512, 512, kernel_size=(3, 3), stride=(1, 1), padding=(1, 1))\n",
      "    (20): ReLU(inplace)\n",
      "    (21): Conv2d(512, 512, kernel_size=(3, 3), stride=(1, 1), padding=(1, 1))\n",
      "    (22): ReLU(inplace)\n",
      "    (23): MaxPool2d(kernel_size=2, stride=2, padding=0, dilation=1, ceil_mode=False)\n",
      "    (24): Conv2d(512, 512, kernel_size=(3, 3), stride=(1, 1), padding=(1, 1))\n",
      "    (25): ReLU(inplace)\n",
      "    (26): Conv2d(512, 512, kernel_size=(3, 3), stride=(1, 1), padding=(1, 1))\n",
      "    (27): ReLU(inplace)\n",
      "    (28): Conv2d(512, 512, kernel_size=(3, 3), stride=(1, 1), padding=(1, 1))\n",
      "    (29): ReLU(inplace)\n",
      "    (30): MaxPool2d(kernel_size=2, stride=2, padding=0, dilation=1, ceil_mode=False)\n",
      "  )\n",
      "  (decoder1x1): Conv2d(512, 1, kernel_size=(1, 1), stride=(1, 1))\n",
      "  (convT2d1): ConvTranspose2d(1, 512, kernel_size=(4, 4), stride=(2, 2), padding=(1, 1))\n",
      "  (convT2d2): ConvTranspose2d(1024, 256, kernel_size=(4, 4), stride=(4, 4))\n",
      "  (convT2d3): ConvTranspose2d(512, 1, kernel_size=(4, 4), stride=(4, 4))\n",
      ")\n"
     ]
    }
   ],
   "source": [
    "num_classes = 1\n",
    "\n",
    "class Net(nn.Module):\n",
    "    \n",
    "    def __init__(self):\n",
    "        super(Net, self).__init__()\n",
    "        vgg16 = models.vgg16(pretrained=True)\n",
    "        self.encoder = vgg16.features\n",
    "        for i,param in enumerate(self.encoder.parameters()):\n",
    "            param.requires_grad = i >= 16\n",
    "        self.decoder1x1 = nn.Conv2d(in_channels=512, out_channels=1, kernel_size=1, stride=1, padding=0)\n",
    "        self.convT2d1 = nn.ConvTranspose2d(in_channels=1, out_channels=512, kernel_size=4, stride=2, padding=1)\n",
    "        self.convT2d2 = nn.ConvTranspose2d(in_channels=1024, out_channels=256, kernel_size=4, stride=4, padding=0)\n",
    "        self.convT2d3 = nn.ConvTranspose2d(in_channels=512, out_channels=1, kernel_size=4, stride=4, padding=0)\n",
    "    \n",
    "    def forward(self, x):\n",
    "\n",
    "        skipConnections = {}\n",
    "        for i, layer in enumerate(self.encoder):\n",
    "            x = layer(x)\n",
    "            if i in [23, 15]:\n",
    "                skipConnections[i] = x\n",
    "                \n",
    "        x = self.decoder1x1(x)\n",
    "        x = self.convT2d1(x)\n",
    "        x = torch.cat((x,skipConnections[23]), 1)\n",
    "        x = self.convT2d2(x)\n",
    "        x = torch.cat((x, skipConnections[15]), 1)\n",
    "        x = self.convT2d3(x)\n",
    "        x = nn.Sigmoid()(x)\n",
    "        x = x.view(x.size()[0], -1, num_classes)\n",
    "        \n",
    "        return x\n",
    "\n",
    "net = Net()\n",
    "net.cuda()\n",
    "print(net)"
   ]
  },
  {
   "cell_type": "code",
   "execution_count": 3,
   "metadata": {},
   "outputs": [],
   "source": [
    "background_color = np.array([255, 255, 255])\n",
    "class UltrasoundDataset(data.Dataset):\n",
    "    def __init__(self, mask_list, input_preprocessor):\n",
    "        mask_notall_black = [x for x in mask_list if not self.isAllBlack(x)]\n",
    "        self.y = mask_notall_black\n",
    "        self.x = [grp.group(1)+grp.group(2) for grp in [re.match(r'(.*)_mask(\\.tif)', x) for x in mask_notall_black]]\n",
    "        self.input_preprocessor = input_preprocessor\n",
    "        \n",
    "    def isAllBlack(self, x):\n",
    "        return np.all(self.imread(x)[:,:] == [0,0,0])\n",
    "        \n",
    "    def imread(self, file_name):\n",
    "        return cv2.imread(file_name)[2: 418, 2:578]\n",
    "    \n",
    "    def inputimage(self, file_name):\n",
    "        return self.input_preprocessor(self.imread(file_name))\n",
    "    \n",
    "    def labelread(self, file_name):\n",
    "        img = self.imread(file_name)\n",
    "        \n",
    "        gt_bg = np.all(img == background_color, axis=2)\n",
    "        gt_bg = gt_bg.reshape(*gt_bg.shape, 1)\n",
    "        \n",
    "        class1 = np.zeros(gt_bg.shape, dtype=np.float32)\n",
    "        class1[gt_bg] = 1.\n",
    "        return class1.reshape(-1, num_classes)\n",
    "\n",
    "    def __len__(self):\n",
    "        return len(self.x)\n",
    "    \n",
    "    def __getitem__(self, idx):\n",
    "        return self.inputimage(self.x[idx]), self.labelread(self.y[idx])\n",
    "\n",
    "input_processor = transforms.Compose([\n",
    "    transforms.ToTensor(),\n",
    "    transforms.Normalize((0.5, 0.5, 0.5), (0.5, 0.5, 0.5))\n",
    "])\n",
    "\n",
    "\n",
    "filelist = glob.glob('./data/train_orig/*_mask.tif')\n",
    "val_percent = 20\n",
    "val_items = val_percent*len(filelist)//100\n",
    "\n",
    "random.shuffle(filelist)\n",
    "\n",
    "batch_size = 10\n",
    "\n",
    "validation_list = filelist[0: val_items]\n",
    "val_dataset = UltrasoundDataset(validation_list, input_processor)\n",
    "val_loader = data.DataLoader(val_dataset, batch_size=batch_size, num_workers=2)\n",
    "\n",
    "train_list = filelist[val_items:]\n",
    "train_dataset = UltrasoundDataset(train_list, input_processor)\n",
    "train_loader = data.DataLoader(train_dataset, batch_size=batch_size, num_workers=2, shuffle=True)\n"
   ]
  },
  {
   "cell_type": "code",
   "execution_count": 4,
   "metadata": {},
   "outputs": [
    {
     "data": {
      "image/png": "[encoded data removed]",
      "text/plain": [
       "<Figure size 432x288 with 1 Axes>"
      ]
     },
     "metadata": {
      "needs_background": "light"
     },
     "output_type": "display_data"
    }
   ],
   "source": [
    "def imshow(img):\n",
    "    img = img / 2 + 0.5     # unnormalize\n",
    "    npimg = img.numpy()\n",
    "    plt.imshow(np.transpose(npimg, (1, 2, 0)))\n",
    "    plt.show()\n",
    "\n",
    "# get some random training images\n",
    "dataiter = iter(train_loader)\n",
    "images, labels = dataiter.next()\n",
    "\n",
    "# show images\n",
    "imshow(torchvision.utils.make_grid(images[0:4], nrow=4,padding=20))\n"
   ]
  },
  {
   "cell_type": "code",
   "execution_count": 5,
   "metadata": {},
   "outputs": [],
   "source": [
    "def dice_coef(y_true, y_pred):\n",
    "    intersection = torch.sum(y_true * y_pred)\n",
    "    return (2. * intersection + 1.) / (torch.sum(y_true) + torch.sum(y_pred) + 1.)\n",
    "\n",
    "def dice_coef_loss(y_true, y_pred):\n",
    "    return -dice_coef(y_true, y_pred)\n",
    "\n",
    "def iou(y_true, y_pred):\n",
    "    intersection = torch.sum(y_true * y_pred)\n",
    "    return (intersection + 1.) / (torch.sum(y_true) + torch.sum(y_pred) - intersection + 1.)\n",
    "\n",
    "def falsepos(y_true, y_pred):\n",
    "    intersection = torch.sum(y_true * y_pred)\n",
    "    return torch.sum(y_pred) - intersection\n",
    "\n",
    "def falseneg(y_true, y_pred):\n",
    "    intersection = torch.sum(y_true * y_pred)\n",
    "    return torch.sum(y_true) - intersection\n",
    "\n",
    "def precision(y_true, y_pred):\n",
    "    intersection = torch.sum(y_true * y_pred)\n",
    "    return intersection / (torch.sum(y_pred) + 1.)\n",
    "\n",
    "def recall(y_true, y_pred):\n",
    "    intersection = torch.sum(y_true * y_pred)\n",
    "    return intersection / (torch.sum(y_true) + 1.)\n",
    "\n",
    "def fscore(y_true, y_pred):\n",
    "    presci = precision(y_true, y_pred)\n",
    "    rec = recall(y_true, y_pred)\n",
    "    return 2*(presci * rec)/(presci + rec)\n",
    "\n",
    "def fscore_loss(y_true, y_pred):\n",
    "    presci = precision(y_true, y_pred)\n",
    "    rec = recall(y_true, y_pred)\n",
    "    return (1+4)*(presci * rec)/(4*presci + rec)"
   ]
  },
  {
   "cell_type": "code",
   "execution_count": 6,
   "metadata": {
    "scrolled": true
   },
   "outputs": [],
   "source": [
    "def train(data_loader, net, criterion, optimizer, epoch):\n",
    "    net.train(True)\n",
    "    train_loss = 0.\n",
    "    for i, (inputs, labels) in enumerate(data_loader, 0):\n",
    "        print(\"Training epoch %d: batch # %d\" % (epoch, i), end='\\r')\n",
    "        # map to gpu\n",
    "        inputs, labels = inputs.cuda(), labels.cuda()\n",
    "\n",
    "        # zero the parameter gradients\n",
    "        optimizer.zero_grad()\n",
    "\n",
    "        # forward + backward + optimize\n",
    "        outputs = net(inputs)\n",
    "        loss = criterion(outputs, labels)\n",
    "        loss.backward()\n",
    "        optimizer.step()\n",
    "        \n",
    "        train_loss += loss.item()\n",
    "    return train_loss / len(data_loader)\n",
    "\n",
    "def validate(data_loader, net, criterion, measures, epoch):\n",
    "    net.train(False)\n",
    "    val_loss = 0.\n",
    "    measurements = {k:0. for k in measures.keys()}\n",
    "    for i, (inputs, labels) in enumerate(data_loader, 0):\n",
    "        print(\"Validating epoch %d: batch # %d\" % (epoch, i), end='\\r')\n",
    "        # map to gpu\n",
    "        inputs, labels = inputs.cuda(), labels.cuda()\n",
    "\n",
    "        # zero the parameter gradients\n",
    "        optimizer.zero_grad()\n",
    "\n",
    "        # forward + backward + optimize\n",
    "        outputs = net(inputs)\n",
    "        loss = criterion(outputs, labels)\n",
    "        \n",
    "        for (k,m) in measures.items():\n",
    "            measurements[k] += m(outputs, labels).item()\n",
    "        \n",
    "        val_loss += loss.item()\n",
    "    \n",
    "    for k in measures.keys():\n",
    "        measurements[k] = measurements[k] / len(data_loader)\n",
    "    return val_loss / len(data_loader), measurements"
   ]
  },
  {
   "cell_type": "code",
   "execution_count": 7,
   "metadata": {},
   "outputs": [
    {
     "name": "stdout",
     "output_type": "stream",
     "text": [
      "epoch 0: train-loss=-0.17004, val-loss=-0.40783, new_lr=0.00001\n",
      " iou:0.25748, fp:28383.07982, fn:92108.89748, precision:0.59483, recall:0.31431, fscore:0.40782,\n",
      "epoch 1: train-loss=-0.51090, val-loss=-0.56713, new_lr=0.00001\n",
      " iou:0.39942, fp:34012.32960, fn:19671.28932, precision:0.51450, recall:0.64845, fscore:0.56712,\n",
      "epoch 2: train-loss=-0.60836, val-loss=-0.62911, new_lr=0.00001\n",
      " iou:0.46162, fp:25686.79019, fn:25846.18698, precision:0.63384, recall:0.63490, fscore:0.62910,\n",
      "epoch 3: train-loss=-0.64582, val-loss=-0.61715, new_lr=0.00001\n",
      " iou:0.44841, fp:16309.11276, fn:50164.62057, precision:0.76804, recall:0.52152, fscore:0.61714,\n",
      "epoch 4: train-loss=-0.67447, val-loss=-0.66898, new_lr=0.00001\n",
      " iou:0.50560, fp:22382.40582, fn:24090.15191, precision:0.68084, recall:0.66698, fscore:0.66897,\n",
      "epoch 5: train-loss=-0.69281, val-loss=-0.67234, new_lr=0.00001\n",
      " iou:0.50922, fp:18680.70842, fn:30883.35226, precision:0.73396, recall:0.62768, fscore:0.67233,\n",
      "epoch 6: train-loss=-0.70625, val-loss=-0.68948, new_lr=0.00001\n",
      " iou:0.52952, fp:21425.67565, fn:21709.06332, precision:0.69459, recall:0.69340, fscore:0.68947,\n",
      "epoch 7: train-loss=-0.71813, val-loss=-0.69646, new_lr=0.00001\n",
      " iou:0.53800, fp:22938.86806, fn:17396.70998, precision:0.67291, recall:0.73250, fscore:0.69644,\n",
      "epoch 8: train-loss=-0.73046, val-loss=-0.70396, new_lr=0.00001\n",
      " iou:0.54636, fp:20219.99375, fn:21122.16597, precision:0.71209, recall:0.70415, fscore:0.70395,\n",
      "epoch 9: train-loss=-0.74163, val-loss=-0.70883, new_lr=0.00001\n",
      " iou:0.55267, fp:22130.02300, fn:16636.97656, precision:0.68500, recall:0.74398, fscore:0.70881,\n",
      "Finished Training\n"
     ]
    }
   ],
   "source": [
    "criterion = dice_coef_loss\n",
    "optimizer = optim.Adam(net.parameters(), lr=1e-5)\n",
    "lrscheduler = optim.lr_scheduler.ReduceLROnPlateau(optimizer)\n",
    "measures = {'iou':iou, 'fp': falsepos, 'fn': falseneg, 'precision': precision, 'recall': recall, 'fscore': fscore }\n",
    "\n",
    "for epoch in range(10):  # loop over the dataset multiple times\n",
    "    train_loss = train(train_loader, net, criterion, optimizer, epoch)\n",
    "    val_loss, measurements = validate(val_loader, net, criterion, measures, epoch)\n",
    "    lrscheduler.step(val_loss)\n",
    "    \n",
    "    print(\"epoch {}: train-loss={:.5f}, val-loss={:.5f}, new_lr={:.5f}\".format(epoch, train_loss, val_loss, optimizer.param_groups[0]['lr']))\n",
    "    for k,v in measurements.items():\n",
    "        print(\" {}:{:.5f}\".format(k,v), end=',')\n",
    "    print()\n",
    "\n",
    "print('Finished Training')"
   ]
  },
  {
   "cell_type": "code",
   "execution_count": 8,
   "metadata": {},
   "outputs": [],
   "source": [
    "model_name = './ultrasound_%s.pth' % time.strftime('%m%d%H%M')\n",
    "torch.save(net.state_dict(), model_name)"
   ]
  },
  {
   "cell_type": "code",
   "execution_count": 13,
   "metadata": {},
   "outputs": [
    {
     "data": {
      "image/png": "[encoded data removed]",
      "text/plain": [
       "<Figure size 432x288 with 2 Axes>"
      ]
     },
     "metadata": {
      "needs_background": "light"
     },
     "output_type": "display_data"
    },
    {
     "data": {
      "image/png": "[encoded data removed]",
      "text/plain": [
       "<Figure size 432x288 with 2 Axes>"
      ]
     },
     "metadata": {
      "needs_background": "light"
     },
     "output_type": "display_data"
    },
    {
     "data": {
      "image/png": "[encoded data removed]",
      "text/plain": [
       "<Figure size 432x288 with 2 Axes>"
      ]
     },
     "metadata": {
      "needs_background": "light"
     },
     "output_type": "display_data"
    },
    {
     "data": {
      "image/png": "[encoded data removed]",
      "text/plain": [
       "<Figure size 432x288 with 2 Axes>"
      ]
     },
     "metadata": {
      "needs_background": "light"
     },
     "output_type": "display_data"
    },
    {
     "data": {
      "image/png": "[encoded data removed]",
      "text/plain": [
       "<Figure size 432x288 with 2 Axes>"
      ]
     },
     "metadata": {
      "needs_background": "light"
     },
     "output_type": "display_data"
    },
    {
     "data": {
      "image/png": "[encoded data removed]",
      "text/plain": [
       "<Figure size 432x288 with 2 Axes>"
      ]
     },
     "metadata": {
      "needs_background": "light"
     },
     "output_type": "display_data"
    },
    {
     "data": {
      "image/png": "[encoded data removed]",
      "text/plain": [
       "<Figure size 432x288 with 2 Axes>"
      ]
     },
     "metadata": {
      "needs_background": "light"
     },
     "output_type": "display_data"
    },
    {
     "data": {
      "image/png": "[encoded data removed]",
      "text/plain": [
       "<Figure size 432x288 with 2 Axes>"
      ]
     },
     "metadata": {
      "needs_background": "light"
     },
     "output_type": "display_data"
    },
    {
     "data": {
      "image/png": "[encoded data removed]",
      "text/plain": [
       "<Figure size 432x288 with 2 Axes>"
      ]
     },
     "metadata": {
      "needs_background": "light"
     },
     "output_type": "display_data"
    },
    {
     "data": {
      "image/png": "[encoded data removed]",
      "text/plain": [
       "<Figure size 432x288 with 2 Axes>"
      ]
     },
     "metadata": {
      "needs_background": "light"
     },
     "output_type": "display_data"
    }
   ],
   "source": [
    "IMAGE_HT = 416\n",
    "IMAGE_WD = 576\n",
    "\n",
    "dataiter = iter(val_loader)\n",
    "images, labels = dataiter.next()\n",
    "images = images.cuda()\n",
    "output = net(images)\n",
    "\n",
    "for idx in range(10):\n",
    "    x, y, label = images[idx], output[idx], labels[idx]\n",
    "    \n",
    "    pred = y.reshape(IMAGE_HT, IMAGE_WD)\n",
    "    pred = pred.cpu()\n",
    "    pred = pred.detach().numpy()\n",
    "    y=np.zeros(pred.shape, dtype=np.uint8)\n",
    "    y[pred == 1] = 255\n",
    "    \n",
    "    plt.figure()\n",
    "    \n",
    "    plt.subplot(1, 2, 1)\n",
    "    plt.axis('off')\n",
    "    plt.imshow(y, cmap='gray')\n",
    "    \n",
    "    plt.subplot(1, 2, 2)\n",
    "    plt.axis('off')\n",
    "    plt.imshow(label.reshape(IMAGE_HT, IMAGE_WD), cmap='gray')\n"
   ]
  },
  {
   "cell_type": "code",
   "execution_count": null,
   "metadata": {},
   "outputs": [],
   "source": []
  }
 ],
 "metadata": {
  "kernelspec": {
   "display_name": "Python (torch-1.0)",
   "language": "python",
   "name": "myenv"
  },
  "language_info": {
   "codemirror_mode": {
    "name": "ipython",
    "version": 3
   },
   "file_extension": ".py",
   "mimetype": "text/x-python",
   "name": "python",
   "nbconvert_exporter": "python",
   "pygments_lexer": "ipython3",
   "version": "3.7.1"
  }
 },
 "nbformat": 4,
 "nbformat_minor": 2
}
